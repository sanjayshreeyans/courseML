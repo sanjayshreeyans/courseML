{
 "cells": [
  {
   "cell_type": "code",
   "execution_count": 1,
   "id": "261d888c",
   "metadata": {
    "_cell_guid": "b1076dfc-b9ad-4769-8c92-a6c4dae69d19",
    "_uuid": "8f2839f25d086af736a60e9eeb907d3b93b6e0e5",
    "execution": {
     "iopub.execute_input": "2023-02-09T18:48:38.340348Z",
     "iopub.status.busy": "2023-02-09T18:48:38.339848Z",
     "iopub.status.idle": "2023-02-09T18:48:38.355951Z",
     "shell.execute_reply": "2023-02-09T18:48:38.354054Z"
    },
    "papermill": {
     "duration": 0.028122,
     "end_time": "2023-02-09T18:48:38.358936",
     "exception": false,
     "start_time": "2023-02-09T18:48:38.330814",
     "status": "completed"
    },
    "tags": []
   },
   "outputs": [
    {
     "name": "stdout",
     "output_type": "stream",
     "text": [
      "/kaggle/input/playground-series-s3e5/sample_submission.csv\n",
      "/kaggle/input/playground-series-s3e5/train.csv\n",
      "/kaggle/input/playground-series-s3e5/test.csv\n"
     ]
    }
   ],
   "source": [
    "# This Python 3 environment comes with many helpful analytics libraries installed\n",
    "# It is defined by the kaggle/python Docker image: https://github.com/kaggle/docker-python\n",
    "# For example, here's several helpful packages to load\n",
    "\n",
    "import numpy as np # linear algebra\n",
    "import pandas as pd # data processing, CSV file I/O (e.g. pd.read_csv)\n",
    "\n",
    "# Input data files are available in the read-only \"../input/\" directory\n",
    "# For example, running this (by clicking run or pressing Shift+Enter) will list all files under the input directory\n",
    "\n",
    "import os\n",
    "for dirname, _, filenames in os.walk('/kaggle/input'):\n",
    "    for filename in filenames:\n",
    "        print(os.path.join(dirname, filename))\n",
    "\n",
    "# You can write up to 20GB to the current directory (/kaggle/working/) that gets preserved as output when you create a version using \"Save & Run All\" \n",
    "# You can also write temporary files to /kaggle/temp/, but they won't be saved outside of the current session"
   ]
  },
  {
   "cell_type": "code",
   "execution_count": 2,
   "id": "76f8d2b6",
   "metadata": {
    "execution": {
     "iopub.execute_input": "2023-02-09T18:48:38.373759Z",
     "iopub.status.busy": "2023-02-09T18:48:38.372747Z",
     "iopub.status.idle": "2023-02-09T18:48:38.396305Z",
     "shell.execute_reply": "2023-02-09T18:48:38.395245Z"
    },
    "papermill": {
     "duration": 0.033718,
     "end_time": "2023-02-09T18:48:38.399029",
     "exception": false,
     "start_time": "2023-02-09T18:48:38.365311",
     "status": "completed"
    },
    "tags": []
   },
   "outputs": [],
   "source": [
    "# Read the data\n",
    "data = pd.read_csv(\"/kaggle/input/playground-series-s3e5/train.csv\")"
   ]
  },
  {
   "cell_type": "code",
   "execution_count": 3,
   "id": "5084b5be",
   "metadata": {
    "execution": {
     "iopub.execute_input": "2023-02-09T18:48:38.418335Z",
     "iopub.status.busy": "2023-02-09T18:48:38.417659Z",
     "iopub.status.idle": "2023-02-09T18:48:38.441950Z",
     "shell.execute_reply": "2023-02-09T18:48:38.440032Z"
    },
    "papermill": {
     "duration": 0.035152,
     "end_time": "2023-02-09T18:48:38.444394",
     "exception": false,
     "start_time": "2023-02-09T18:48:38.409242",
     "status": "completed"
    },
    "tags": []
   },
   "outputs": [
    {
     "name": "stdout",
     "output_type": "stream",
     "text": [
      "<class 'pandas.core.frame.DataFrame'>\n",
      "RangeIndex: 2056 entries, 0 to 2055\n",
      "Data columns (total 13 columns):\n",
      " #   Column                Non-Null Count  Dtype  \n",
      "---  ------                --------------  -----  \n",
      " 0   Id                    2056 non-null   int64  \n",
      " 1   fixed acidity         2056 non-null   float64\n",
      " 2   volatile acidity      2056 non-null   float64\n",
      " 3   citric acid           2056 non-null   float64\n",
      " 4   residual sugar        2056 non-null   float64\n",
      " 5   chlorides             2056 non-null   float64\n",
      " 6   free sulfur dioxide   2056 non-null   float64\n",
      " 7   total sulfur dioxide  2056 non-null   float64\n",
      " 8   density               2056 non-null   float64\n",
      " 9   pH                    2056 non-null   float64\n",
      " 10  sulphates             2056 non-null   float64\n",
      " 11  alcohol               2056 non-null   float64\n",
      " 12  quality               2056 non-null   int64  \n",
      "dtypes: float64(11), int64(2)\n",
      "memory usage: 208.9 KB\n"
     ]
    }
   ],
   "source": [
    "data.info()"
   ]
  },
  {
   "cell_type": "code",
   "execution_count": 4,
   "id": "b3d9ae64",
   "metadata": {
    "execution": {
     "iopub.execute_input": "2023-02-09T18:48:38.459455Z",
     "iopub.status.busy": "2023-02-09T18:48:38.458423Z",
     "iopub.status.idle": "2023-02-09T18:48:38.485619Z",
     "shell.execute_reply": "2023-02-09T18:48:38.484181Z"
    },
    "papermill": {
     "duration": 0.037483,
     "end_time": "2023-02-09T18:48:38.488449",
     "exception": false,
     "start_time": "2023-02-09T18:48:38.450966",
     "status": "completed"
    },
    "tags": []
   },
   "outputs": [
    {
     "data": {
      "text/html": [
       "<div>\n",
       "<style scoped>\n",
       "    .dataframe tbody tr th:only-of-type {\n",
       "        vertical-align: middle;\n",
       "    }\n",
       "\n",
       "    .dataframe tbody tr th {\n",
       "        vertical-align: top;\n",
       "    }\n",
       "\n",
       "    .dataframe thead th {\n",
       "        text-align: right;\n",
       "    }\n",
       "</style>\n",
       "<table border=\"1\" class=\"dataframe\">\n",
       "  <thead>\n",
       "    <tr style=\"text-align: right;\">\n",
       "      <th></th>\n",
       "      <th>Id</th>\n",
       "      <th>fixed acidity</th>\n",
       "      <th>volatile acidity</th>\n",
       "      <th>citric acid</th>\n",
       "      <th>residual sugar</th>\n",
       "      <th>chlorides</th>\n",
       "      <th>free sulfur dioxide</th>\n",
       "      <th>total sulfur dioxide</th>\n",
       "      <th>density</th>\n",
       "      <th>pH</th>\n",
       "      <th>sulphates</th>\n",
       "      <th>alcohol</th>\n",
       "      <th>quality</th>\n",
       "    </tr>\n",
       "  </thead>\n",
       "  <tbody>\n",
       "    <tr>\n",
       "      <th>0</th>\n",
       "      <td>0</td>\n",
       "      <td>8.0</td>\n",
       "      <td>0.50</td>\n",
       "      <td>0.39</td>\n",
       "      <td>2.2</td>\n",
       "      <td>0.073</td>\n",
       "      <td>30.0</td>\n",
       "      <td>39.0</td>\n",
       "      <td>0.99572</td>\n",
       "      <td>3.33</td>\n",
       "      <td>0.77</td>\n",
       "      <td>12.1</td>\n",
       "      <td>6</td>\n",
       "    </tr>\n",
       "    <tr>\n",
       "      <th>1</th>\n",
       "      <td>1</td>\n",
       "      <td>9.3</td>\n",
       "      <td>0.30</td>\n",
       "      <td>0.73</td>\n",
       "      <td>2.3</td>\n",
       "      <td>0.092</td>\n",
       "      <td>30.0</td>\n",
       "      <td>67.0</td>\n",
       "      <td>0.99854</td>\n",
       "      <td>3.32</td>\n",
       "      <td>0.67</td>\n",
       "      <td>12.8</td>\n",
       "      <td>6</td>\n",
       "    </tr>\n",
       "    <tr>\n",
       "      <th>2</th>\n",
       "      <td>2</td>\n",
       "      <td>7.1</td>\n",
       "      <td>0.51</td>\n",
       "      <td>0.03</td>\n",
       "      <td>2.1</td>\n",
       "      <td>0.059</td>\n",
       "      <td>3.0</td>\n",
       "      <td>12.0</td>\n",
       "      <td>0.99660</td>\n",
       "      <td>3.52</td>\n",
       "      <td>0.73</td>\n",
       "      <td>11.3</td>\n",
       "      <td>7</td>\n",
       "    </tr>\n",
       "    <tr>\n",
       "      <th>3</th>\n",
       "      <td>3</td>\n",
       "      <td>8.1</td>\n",
       "      <td>0.87</td>\n",
       "      <td>0.22</td>\n",
       "      <td>2.6</td>\n",
       "      <td>0.084</td>\n",
       "      <td>11.0</td>\n",
       "      <td>65.0</td>\n",
       "      <td>0.99730</td>\n",
       "      <td>3.20</td>\n",
       "      <td>0.53</td>\n",
       "      <td>9.8</td>\n",
       "      <td>5</td>\n",
       "    </tr>\n",
       "    <tr>\n",
       "      <th>4</th>\n",
       "      <td>4</td>\n",
       "      <td>8.5</td>\n",
       "      <td>0.36</td>\n",
       "      <td>0.30</td>\n",
       "      <td>2.3</td>\n",
       "      <td>0.079</td>\n",
       "      <td>10.0</td>\n",
       "      <td>45.0</td>\n",
       "      <td>0.99444</td>\n",
       "      <td>3.20</td>\n",
       "      <td>1.36</td>\n",
       "      <td>9.5</td>\n",
       "      <td>6</td>\n",
       "    </tr>\n",
       "  </tbody>\n",
       "</table>\n",
       "</div>"
      ],
      "text/plain": [
       "   Id  fixed acidity  volatile acidity  citric acid  residual sugar  \\\n",
       "0   0            8.0              0.50         0.39             2.2   \n",
       "1   1            9.3              0.30         0.73             2.3   \n",
       "2   2            7.1              0.51         0.03             2.1   \n",
       "3   3            8.1              0.87         0.22             2.6   \n",
       "4   4            8.5              0.36         0.30             2.3   \n",
       "\n",
       "   chlorides  free sulfur dioxide  total sulfur dioxide  density    pH  \\\n",
       "0      0.073                 30.0                  39.0  0.99572  3.33   \n",
       "1      0.092                 30.0                  67.0  0.99854  3.32   \n",
       "2      0.059                  3.0                  12.0  0.99660  3.52   \n",
       "3      0.084                 11.0                  65.0  0.99730  3.20   \n",
       "4      0.079                 10.0                  45.0  0.99444  3.20   \n",
       "\n",
       "   sulphates  alcohol  quality  \n",
       "0       0.77     12.1        6  \n",
       "1       0.67     12.8        6  \n",
       "2       0.73     11.3        7  \n",
       "3       0.53      9.8        5  \n",
       "4       1.36      9.5        6  "
      ]
     },
     "execution_count": 4,
     "metadata": {},
     "output_type": "execute_result"
    }
   ],
   "source": [
    "data.head()"
   ]
  },
  {
   "cell_type": "code",
   "execution_count": 5,
   "id": "0978e2c8",
   "metadata": {
    "execution": {
     "iopub.execute_input": "2023-02-09T18:48:38.503385Z",
     "iopub.status.busy": "2023-02-09T18:48:38.502952Z",
     "iopub.status.idle": "2023-02-09T18:48:38.510658Z",
     "shell.execute_reply": "2023-02-09T18:48:38.509409Z"
    },
    "papermill": {
     "duration": 0.018262,
     "end_time": "2023-02-09T18:48:38.513309",
     "exception": false,
     "start_time": "2023-02-09T18:48:38.495047",
     "status": "completed"
    },
    "tags": []
   },
   "outputs": [
    {
     "data": {
      "text/plain": [
       "Index(['Id', 'fixed acidity', 'volatile acidity', 'citric acid',\n",
       "       'residual sugar', 'chlorides', 'free sulfur dioxide',\n",
       "       'total sulfur dioxide', 'density', 'pH', 'sulphates', 'alcohol',\n",
       "       'quality'],\n",
       "      dtype='object')"
      ]
     },
     "execution_count": 5,
     "metadata": {},
     "output_type": "execute_result"
    }
   ],
   "source": [
    "data.columns"
   ]
  },
  {
   "cell_type": "code",
   "execution_count": 6,
   "id": "d9d81a7f",
   "metadata": {
    "execution": {
     "iopub.execute_input": "2023-02-09T18:48:38.528707Z",
     "iopub.status.busy": "2023-02-09T18:48:38.528287Z",
     "iopub.status.idle": "2023-02-09T18:48:38.541600Z",
     "shell.execute_reply": "2023-02-09T18:48:38.540350Z"
    },
    "papermill": {
     "duration": 0.024637,
     "end_time": "2023-02-09T18:48:38.544671",
     "exception": false,
     "start_time": "2023-02-09T18:48:38.520034",
     "status": "completed"
    },
    "tags": []
   },
   "outputs": [],
   "source": [
    "# Define input and output data\n",
    "input_cols = ['fixed acidity', 'volatile acidity', 'citric acid',\n",
    "       'residual sugar', 'chlorides', 'free sulfur dioxide',\n",
    "       'total sulfur dioxide', 'density', 'pH', 'sulphates', 'alcohol']\n",
    "\n",
    "y = data['quality']\n"
   ]
  },
  {
   "cell_type": "code",
   "execution_count": 7,
   "id": "6d6ba88a",
   "metadata": {
    "execution": {
     "iopub.execute_input": "2023-02-09T18:48:38.561572Z",
     "iopub.status.busy": "2023-02-09T18:48:38.560390Z",
     "iopub.status.idle": "2023-02-09T18:48:38.569811Z",
     "shell.execute_reply": "2023-02-09T18:48:38.568540Z"
    },
    "papermill": {
     "duration": 0.020069,
     "end_time": "2023-02-09T18:48:38.572354",
     "exception": false,
     "start_time": "2023-02-09T18:48:38.552285",
     "status": "completed"
    },
    "tags": []
   },
   "outputs": [
    {
     "data": {
      "text/plain": [
       "0       6\n",
       "1       6\n",
       "2       7\n",
       "3       5\n",
       "4       6\n",
       "       ..\n",
       "2051    7\n",
       "2052    5\n",
       "2053    8\n",
       "2054    5\n",
       "2055    7\n",
       "Name: quality, Length: 2056, dtype: int64"
      ]
     },
     "execution_count": 7,
     "metadata": {},
     "output_type": "execute_result"
    }
   ],
   "source": [
    "y"
   ]
  },
  {
   "cell_type": "code",
   "execution_count": 8,
   "id": "8ea68298",
   "metadata": {
    "execution": {
     "iopub.execute_input": "2023-02-09T18:48:38.588255Z",
     "iopub.status.busy": "2023-02-09T18:48:38.587803Z",
     "iopub.status.idle": "2023-02-09T18:48:39.477182Z",
     "shell.execute_reply": "2023-02-09T18:48:39.476207Z"
    },
    "papermill": {
     "duration": 0.900518,
     "end_time": "2023-02-09T18:48:39.479848",
     "exception": false,
     "start_time": "2023-02-09T18:48:38.579330",
     "status": "completed"
    },
    "tags": []
   },
   "outputs": [],
   "source": [
    "from sklearn.preprocessing import MinMaxScaler\n",
    "\n",
    "scaler = MinMaxScaler()\n",
    "scaler.fit(data[input_cols])\n",
    "data[input_cols] = scaler.transform(data[input_cols])"
   ]
  },
  {
   "cell_type": "code",
   "execution_count": 9,
   "id": "966d7001",
   "metadata": {
    "execution": {
     "iopub.execute_input": "2023-02-09T18:48:39.495172Z",
     "iopub.status.busy": "2023-02-09T18:48:39.494762Z",
     "iopub.status.idle": "2023-02-09T18:48:39.516833Z",
     "shell.execute_reply": "2023-02-09T18:48:39.515604Z"
    },
    "papermill": {
     "duration": 0.032682,
     "end_time": "2023-02-09T18:48:39.519190",
     "exception": false,
     "start_time": "2023-02-09T18:48:39.486508",
     "status": "completed"
    },
    "tags": []
   },
   "outputs": [
    {
     "data": {
      "text/html": [
       "<div>\n",
       "<style scoped>\n",
       "    .dataframe tbody tr th:only-of-type {\n",
       "        vertical-align: middle;\n",
       "    }\n",
       "\n",
       "    .dataframe tbody tr th {\n",
       "        vertical-align: top;\n",
       "    }\n",
       "\n",
       "    .dataframe thead th {\n",
       "        text-align: right;\n",
       "    }\n",
       "</style>\n",
       "<table border=\"1\" class=\"dataframe\">\n",
       "  <thead>\n",
       "    <tr style=\"text-align: right;\">\n",
       "      <th></th>\n",
       "      <th>fixed acidity</th>\n",
       "      <th>volatile acidity</th>\n",
       "      <th>citric acid</th>\n",
       "      <th>residual sugar</th>\n",
       "      <th>chlorides</th>\n",
       "      <th>free sulfur dioxide</th>\n",
       "      <th>total sulfur dioxide</th>\n",
       "      <th>density</th>\n",
       "      <th>pH</th>\n",
       "      <th>sulphates</th>\n",
       "      <th>alcohol</th>\n",
       "    </tr>\n",
       "  </thead>\n",
       "  <tbody>\n",
       "    <tr>\n",
       "      <th>0</th>\n",
       "      <td>0.275229</td>\n",
       "      <td>0.228571</td>\n",
       "      <td>0.513158</td>\n",
       "      <td>0.078125</td>\n",
       "      <td>0.151741</td>\n",
       "      <td>0.432836</td>\n",
       "      <td>0.113475</td>\n",
       "      <td>0.414831</td>\n",
       "      <td>0.567308</td>\n",
       "      <td>0.243590</td>\n",
       "      <td>0.641509</td>\n",
       "    </tr>\n",
       "    <tr>\n",
       "      <th>1</th>\n",
       "      <td>0.394495</td>\n",
       "      <td>0.085714</td>\n",
       "      <td>0.960526</td>\n",
       "      <td>0.085938</td>\n",
       "      <td>0.199005</td>\n",
       "      <td>0.432836</td>\n",
       "      <td>0.212766</td>\n",
       "      <td>0.621880</td>\n",
       "      <td>0.557692</td>\n",
       "      <td>0.179487</td>\n",
       "      <td>0.773585</td>\n",
       "    </tr>\n",
       "    <tr>\n",
       "      <th>2</th>\n",
       "      <td>0.192661</td>\n",
       "      <td>0.235714</td>\n",
       "      <td>0.039474</td>\n",
       "      <td>0.070312</td>\n",
       "      <td>0.116915</td>\n",
       "      <td>0.029851</td>\n",
       "      <td>0.017730</td>\n",
       "      <td>0.479442</td>\n",
       "      <td>0.750000</td>\n",
       "      <td>0.217949</td>\n",
       "      <td>0.490566</td>\n",
       "    </tr>\n",
       "    <tr>\n",
       "      <th>3</th>\n",
       "      <td>0.284404</td>\n",
       "      <td>0.492857</td>\n",
       "      <td>0.289474</td>\n",
       "      <td>0.109375</td>\n",
       "      <td>0.179104</td>\n",
       "      <td>0.149254</td>\n",
       "      <td>0.205674</td>\n",
       "      <td>0.530837</td>\n",
       "      <td>0.442308</td>\n",
       "      <td>0.089744</td>\n",
       "      <td>0.207547</td>\n",
       "    </tr>\n",
       "    <tr>\n",
       "      <th>4</th>\n",
       "      <td>0.321101</td>\n",
       "      <td>0.128571</td>\n",
       "      <td>0.394737</td>\n",
       "      <td>0.085938</td>\n",
       "      <td>0.166667</td>\n",
       "      <td>0.134328</td>\n",
       "      <td>0.134752</td>\n",
       "      <td>0.320852</td>\n",
       "      <td>0.442308</td>\n",
       "      <td>0.621795</td>\n",
       "      <td>0.150943</td>\n",
       "    </tr>\n",
       "    <tr>\n",
       "      <th>...</th>\n",
       "      <td>...</td>\n",
       "      <td>...</td>\n",
       "      <td>...</td>\n",
       "      <td>...</td>\n",
       "      <td>...</td>\n",
       "      <td>...</td>\n",
       "      <td>...</td>\n",
       "      <td>...</td>\n",
       "      <td>...</td>\n",
       "      <td>...</td>\n",
       "      <td>...</td>\n",
       "    </tr>\n",
       "    <tr>\n",
       "      <th>2051</th>\n",
       "      <td>0.146789</td>\n",
       "      <td>0.092857</td>\n",
       "      <td>0.171053</td>\n",
       "      <td>0.062500</td>\n",
       "      <td>0.109453</td>\n",
       "      <td>0.417910</td>\n",
       "      <td>0.124113</td>\n",
       "      <td>0.279736</td>\n",
       "      <td>0.750000</td>\n",
       "      <td>0.307692</td>\n",
       "      <td>0.622642</td>\n",
       "    </tr>\n",
       "    <tr>\n",
       "      <th>2052</th>\n",
       "      <td>0.431193</td>\n",
       "      <td>0.292857</td>\n",
       "      <td>0.276316</td>\n",
       "      <td>0.046875</td>\n",
       "      <td>0.166667</td>\n",
       "      <td>0.388060</td>\n",
       "      <td>0.205674</td>\n",
       "      <td>0.541850</td>\n",
       "      <td>0.384615</td>\n",
       "      <td>0.121795</td>\n",
       "      <td>0.132075</td>\n",
       "    </tr>\n",
       "    <tr>\n",
       "      <th>2053</th>\n",
       "      <td>0.247706</td>\n",
       "      <td>0.178571</td>\n",
       "      <td>0.552632</td>\n",
       "      <td>0.039062</td>\n",
       "      <td>0.146766</td>\n",
       "      <td>0.268657</td>\n",
       "      <td>0.106383</td>\n",
       "      <td>0.184288</td>\n",
       "      <td>0.557692</td>\n",
       "      <td>0.243590</td>\n",
       "      <td>0.716981</td>\n",
       "    </tr>\n",
       "    <tr>\n",
       "      <th>2054</th>\n",
       "      <td>0.376147</td>\n",
       "      <td>0.228571</td>\n",
       "      <td>0.000000</td>\n",
       "      <td>0.042969</td>\n",
       "      <td>0.114428</td>\n",
       "      <td>0.059701</td>\n",
       "      <td>0.021277</td>\n",
       "      <td>0.486784</td>\n",
       "      <td>0.461538</td>\n",
       "      <td>0.019231</td>\n",
       "      <td>0.150943</td>\n",
       "    </tr>\n",
       "    <tr>\n",
       "      <th>2055</th>\n",
       "      <td>0.110092</td>\n",
       "      <td>0.092857</td>\n",
       "      <td>0.236842</td>\n",
       "      <td>0.085938</td>\n",
       "      <td>0.116915</td>\n",
       "      <td>0.164179</td>\n",
       "      <td>0.074468</td>\n",
       "      <td>0.376652</td>\n",
       "      <td>0.788462</td>\n",
       "      <td>0.314103</td>\n",
       "      <td>0.509434</td>\n",
       "    </tr>\n",
       "  </tbody>\n",
       "</table>\n",
       "<p>2056 rows × 11 columns</p>\n",
       "</div>"
      ],
      "text/plain": [
       "      fixed acidity  volatile acidity  citric acid  residual sugar  chlorides  \\\n",
       "0          0.275229          0.228571     0.513158        0.078125   0.151741   \n",
       "1          0.394495          0.085714     0.960526        0.085938   0.199005   \n",
       "2          0.192661          0.235714     0.039474        0.070312   0.116915   \n",
       "3          0.284404          0.492857     0.289474        0.109375   0.179104   \n",
       "4          0.321101          0.128571     0.394737        0.085938   0.166667   \n",
       "...             ...               ...          ...             ...        ...   \n",
       "2051       0.146789          0.092857     0.171053        0.062500   0.109453   \n",
       "2052       0.431193          0.292857     0.276316        0.046875   0.166667   \n",
       "2053       0.247706          0.178571     0.552632        0.039062   0.146766   \n",
       "2054       0.376147          0.228571     0.000000        0.042969   0.114428   \n",
       "2055       0.110092          0.092857     0.236842        0.085938   0.116915   \n",
       "\n",
       "      free sulfur dioxide  total sulfur dioxide   density        pH  \\\n",
       "0                0.432836              0.113475  0.414831  0.567308   \n",
       "1                0.432836              0.212766  0.621880  0.557692   \n",
       "2                0.029851              0.017730  0.479442  0.750000   \n",
       "3                0.149254              0.205674  0.530837  0.442308   \n",
       "4                0.134328              0.134752  0.320852  0.442308   \n",
       "...                   ...                   ...       ...       ...   \n",
       "2051             0.417910              0.124113  0.279736  0.750000   \n",
       "2052             0.388060              0.205674  0.541850  0.384615   \n",
       "2053             0.268657              0.106383  0.184288  0.557692   \n",
       "2054             0.059701              0.021277  0.486784  0.461538   \n",
       "2055             0.164179              0.074468  0.376652  0.788462   \n",
       "\n",
       "      sulphates   alcohol  \n",
       "0      0.243590  0.641509  \n",
       "1      0.179487  0.773585  \n",
       "2      0.217949  0.490566  \n",
       "3      0.089744  0.207547  \n",
       "4      0.621795  0.150943  \n",
       "...         ...       ...  \n",
       "2051   0.307692  0.622642  \n",
       "2052   0.121795  0.132075  \n",
       "2053   0.243590  0.716981  \n",
       "2054   0.019231  0.150943  \n",
       "2055   0.314103  0.509434  \n",
       "\n",
       "[2056 rows x 11 columns]"
      ]
     },
     "execution_count": 9,
     "metadata": {},
     "output_type": "execute_result"
    }
   ],
   "source": [
    "data[input_cols]"
   ]
  },
  {
   "cell_type": "code",
   "execution_count": null,
   "id": "2cb5d616",
   "metadata": {
    "papermill": {
     "duration": 0.006793,
     "end_time": "2023-02-09T18:48:39.533347",
     "exception": false,
     "start_time": "2023-02-09T18:48:39.526554",
     "status": "completed"
    },
    "tags": []
   },
   "outputs": [],
   "source": []
  },
  {
   "cell_type": "code",
   "execution_count": 10,
   "id": "fa567f72",
   "metadata": {
    "execution": {
     "iopub.execute_input": "2023-02-09T18:48:39.549897Z",
     "iopub.status.busy": "2023-02-09T18:48:39.548731Z",
     "iopub.status.idle": "2023-02-09T18:48:39.601205Z",
     "shell.execute_reply": "2023-02-09T18:48:39.600137Z"
    },
    "papermill": {
     "duration": 0.063624,
     "end_time": "2023-02-09T18:48:39.604010",
     "exception": false,
     "start_time": "2023-02-09T18:48:39.540386",
     "status": "completed"
    },
    "tags": []
   },
   "outputs": [],
   "source": [
    "from sklearn.model_selection import train_test_split\n",
    "\n",
    "# Split the data into train and validataion\n",
    "# Use skelarn train_test_split method, to achive the task\n",
    "\n",
    "X_train, X_test, y_train, y_test = train_test_split(data[input_cols], y, test_size=0.25)"
   ]
  },
  {
   "cell_type": "code",
   "execution_count": null,
   "id": "b6249c66",
   "metadata": {
    "execution": {
     "iopub.execute_input": "2023-02-09T18:14:22.457504Z",
     "iopub.status.busy": "2023-02-09T18:14:22.456963Z",
     "iopub.status.idle": "2023-02-09T18:14:22.468304Z",
     "shell.execute_reply": "2023-02-09T18:14:22.466577Z",
     "shell.execute_reply.started": "2023-02-09T18:14:22.457467Z"
    },
    "papermill": {
     "duration": 0.007139,
     "end_time": "2023-02-09T18:48:39.618311",
     "exception": false,
     "start_time": "2023-02-09T18:48:39.611172",
     "status": "completed"
    },
    "tags": []
   },
   "outputs": [],
   "source": []
  },
  {
   "cell_type": "code",
   "execution_count": 11,
   "id": "08d64888",
   "metadata": {
    "execution": {
     "iopub.execute_input": "2023-02-09T18:48:39.633880Z",
     "iopub.status.busy": "2023-02-09T18:48:39.633498Z",
     "iopub.status.idle": "2023-02-09T18:48:40.924313Z",
     "shell.execute_reply": "2023-02-09T18:48:40.923079Z"
    },
    "papermill": {
     "duration": 1.301739,
     "end_time": "2023-02-09T18:48:40.927050",
     "exception": false,
     "start_time": "2023-02-09T18:48:39.625311",
     "status": "completed"
    },
    "tags": []
   },
   "outputs": [
    {
     "data": {
      "text/plain": [
       "RandomForestClassifier(max_depth=11, n_estimators=234, random_state=42)"
      ]
     },
     "execution_count": 11,
     "metadata": {},
     "output_type": "execute_result"
    }
   ],
   "source": [
    "from sklearn.ensemble import RandomForestClassifier\n",
    "model = RandomForestClassifier(n_estimators=234, max_depth=11, random_state=42)\n",
    "\n",
    "# model.fit(X_train, y_train)\n",
    "model.fit(data[input_cols], y)"
   ]
  },
  {
   "cell_type": "code",
   "execution_count": 12,
   "id": "cbfea186",
   "metadata": {
    "execution": {
     "iopub.execute_input": "2023-02-09T18:48:40.944339Z",
     "iopub.status.busy": "2023-02-09T18:48:40.943824Z",
     "iopub.status.idle": "2023-02-09T18:48:40.952471Z",
     "shell.execute_reply": "2023-02-09T18:48:40.950981Z"
    },
    "papermill": {
     "duration": 0.02075,
     "end_time": "2023-02-09T18:48:40.955037",
     "exception": false,
     "start_time": "2023-02-09T18:48:40.934287",
     "status": "completed"
    },
    "tags": []
   },
   "outputs": [
    {
     "data": {
      "text/plain": [
       "RandomForestClassifier(max_depth=11, n_estimators=234, random_state=42)"
      ]
     },
     "execution_count": 12,
     "metadata": {},
     "output_type": "execute_result"
    }
   ],
   "source": [
    "model"
   ]
  },
  {
   "cell_type": "code",
   "execution_count": 13,
   "id": "e5282d71",
   "metadata": {
    "execution": {
     "iopub.execute_input": "2023-02-09T18:48:40.971934Z",
     "iopub.status.busy": "2023-02-09T18:48:40.971501Z",
     "iopub.status.idle": "2023-02-09T18:48:41.145600Z",
     "shell.execute_reply": "2023-02-09T18:48:41.143975Z"
    },
    "papermill": {
     "duration": 0.186787,
     "end_time": "2023-02-09T18:48:41.149170",
     "exception": false,
     "start_time": "2023-02-09T18:48:40.962383",
     "status": "completed"
    },
    "tags": []
   },
   "outputs": [
    {
     "name": "stdout",
     "output_type": "stream",
     "text": [
      "Train Accuracy: 0.9132994010541006\n",
      "Validation Accuracy 0.9266975006571331\n"
     ]
    }
   ],
   "source": [
    "# Check Accuracy  of the Model\n",
    "from sklearn.metrics import cohen_kappa_score\n",
    "\n",
    "# Get train predictions\n",
    "train_preds = model.predict(X_train)\n",
    "\n",
    "# Get test predictions\n",
    "test_preds = model.predict(X_test)\n",
    "\n",
    "# Get accuracy for training\n",
    "train_accuracy = cohen_kappa_score(y_train, train_preds, weights='quadratic')\n",
    "\n",
    "# Get accuracy for testing\n",
    "test_accuracy = cohen_kappa_score(y_test, test_preds, weights='quadratic')\n",
    "print(\"Train Accuracy:\", train_accuracy)\n",
    "print(\"Validation Accuracy\", test_accuracy)"
   ]
  },
  {
   "cell_type": "code",
   "execution_count": 14,
   "id": "fec82769",
   "metadata": {
    "execution": {
     "iopub.execute_input": "2023-02-09T18:48:41.166572Z",
     "iopub.status.busy": "2023-02-09T18:48:41.166161Z",
     "iopub.status.idle": "2023-02-09T18:48:41.182623Z",
     "shell.execute_reply": "2023-02-09T18:48:41.181467Z"
    },
    "papermill": {
     "duration": 0.028459,
     "end_time": "2023-02-09T18:48:41.185294",
     "exception": false,
     "start_time": "2023-02-09T18:48:41.156835",
     "status": "completed"
    },
    "tags": []
   },
   "outputs": [],
   "source": [
    "test_data = pd.read_csv(\"/kaggle/input/playground-series-s3e5/test.csv\")"
   ]
  },
  {
   "cell_type": "code",
   "execution_count": 15,
   "id": "2ab3e1d6",
   "metadata": {
    "execution": {
     "iopub.execute_input": "2023-02-09T18:48:41.201600Z",
     "iopub.status.busy": "2023-02-09T18:48:41.201198Z",
     "iopub.status.idle": "2023-02-09T18:48:41.214955Z",
     "shell.execute_reply": "2023-02-09T18:48:41.213776Z"
    },
    "papermill": {
     "duration": 0.024928,
     "end_time": "2023-02-09T18:48:41.217599",
     "exception": false,
     "start_time": "2023-02-09T18:48:41.192671",
     "status": "completed"
    },
    "tags": []
   },
   "outputs": [],
   "source": [
    "from sklearn.preprocessing import MinMaxScaler\n",
    "\n",
    "scaler = MinMaxScaler()\n",
    "scaler.fit(test_data[input_cols])\n",
    "test_data[input_cols] = scaler.transform(test_data[input_cols])"
   ]
  },
  {
   "cell_type": "code",
   "execution_count": 16,
   "id": "ffc00518",
   "metadata": {
    "execution": {
     "iopub.execute_input": "2023-02-09T18:48:41.234669Z",
     "iopub.status.busy": "2023-02-09T18:48:41.233709Z",
     "iopub.status.idle": "2023-02-09T18:48:41.257392Z",
     "shell.execute_reply": "2023-02-09T18:48:41.255955Z"
    },
    "papermill": {
     "duration": 0.034755,
     "end_time": "2023-02-09T18:48:41.259778",
     "exception": false,
     "start_time": "2023-02-09T18:48:41.225023",
     "status": "completed"
    },
    "tags": []
   },
   "outputs": [
    {
     "data": {
      "text/html": [
       "<div>\n",
       "<style scoped>\n",
       "    .dataframe tbody tr th:only-of-type {\n",
       "        vertical-align: middle;\n",
       "    }\n",
       "\n",
       "    .dataframe tbody tr th {\n",
       "        vertical-align: top;\n",
       "    }\n",
       "\n",
       "    .dataframe thead th {\n",
       "        text-align: right;\n",
       "    }\n",
       "</style>\n",
       "<table border=\"1\" class=\"dataframe\">\n",
       "  <thead>\n",
       "    <tr style=\"text-align: right;\">\n",
       "      <th></th>\n",
       "      <th>fixed acidity</th>\n",
       "      <th>volatile acidity</th>\n",
       "      <th>citric acid</th>\n",
       "      <th>residual sugar</th>\n",
       "      <th>chlorides</th>\n",
       "      <th>free sulfur dioxide</th>\n",
       "      <th>total sulfur dioxide</th>\n",
       "      <th>density</th>\n",
       "      <th>pH</th>\n",
       "      <th>sulphates</th>\n",
       "      <th>alcohol</th>\n",
       "    </tr>\n",
       "  </thead>\n",
       "  <tbody>\n",
       "    <tr>\n",
       "      <th>0</th>\n",
       "      <td>0.214953</td>\n",
       "      <td>0.322314</td>\n",
       "      <td>0.013158</td>\n",
       "      <td>0.100000</td>\n",
       "      <td>0.142857</td>\n",
       "      <td>0.447761</td>\n",
       "      <td>0.292994</td>\n",
       "      <td>0.564356</td>\n",
       "      <td>0.511811</td>\n",
       "      <td>0.162602</td>\n",
       "      <td>0.192308</td>\n",
       "    </tr>\n",
       "    <tr>\n",
       "      <th>1</th>\n",
       "      <td>0.214953</td>\n",
       "      <td>0.524793</td>\n",
       "      <td>0.197368</td>\n",
       "      <td>0.100000</td>\n",
       "      <td>0.197802</td>\n",
       "      <td>0.194030</td>\n",
       "      <td>0.171975</td>\n",
       "      <td>0.440975</td>\n",
       "      <td>0.464567</td>\n",
       "      <td>0.235772</td>\n",
       "      <td>0.230769</td>\n",
       "    </tr>\n",
       "    <tr>\n",
       "      <th>2</th>\n",
       "      <td>0.327103</td>\n",
       "      <td>0.280992</td>\n",
       "      <td>0.526316</td>\n",
       "      <td>0.100000</td>\n",
       "      <td>0.116484</td>\n",
       "      <td>0.298507</td>\n",
       "      <td>0.267516</td>\n",
       "      <td>0.584158</td>\n",
       "      <td>0.267717</td>\n",
       "      <td>0.211382</td>\n",
       "      <td>0.134615</td>\n",
       "    </tr>\n",
       "    <tr>\n",
       "      <th>3</th>\n",
       "      <td>0.289720</td>\n",
       "      <td>0.289256</td>\n",
       "      <td>0.526316</td>\n",
       "      <td>0.071429</td>\n",
       "      <td>0.096703</td>\n",
       "      <td>0.194030</td>\n",
       "      <td>0.108280</td>\n",
       "      <td>0.360244</td>\n",
       "      <td>0.440945</td>\n",
       "      <td>0.211382</td>\n",
       "      <td>0.557692</td>\n",
       "    </tr>\n",
       "    <tr>\n",
       "      <th>4</th>\n",
       "      <td>0.149533</td>\n",
       "      <td>0.181818</td>\n",
       "      <td>0.421053</td>\n",
       "      <td>0.114286</td>\n",
       "      <td>0.070330</td>\n",
       "      <td>0.104478</td>\n",
       "      <td>0.547771</td>\n",
       "      <td>0.265804</td>\n",
       "      <td>0.385827</td>\n",
       "      <td>0.073171</td>\n",
       "      <td>0.769231</td>\n",
       "    </tr>\n",
       "    <tr>\n",
       "      <th>...</th>\n",
       "      <td>...</td>\n",
       "      <td>...</td>\n",
       "      <td>...</td>\n",
       "      <td>...</td>\n",
       "      <td>...</td>\n",
       "      <td>...</td>\n",
       "      <td>...</td>\n",
       "      <td>...</td>\n",
       "      <td>...</td>\n",
       "      <td>...</td>\n",
       "      <td>...</td>\n",
       "    </tr>\n",
       "    <tr>\n",
       "      <th>1367</th>\n",
       "      <td>0.364486</td>\n",
       "      <td>0.516529</td>\n",
       "      <td>0.236842</td>\n",
       "      <td>0.200000</td>\n",
       "      <td>0.158242</td>\n",
       "      <td>0.597015</td>\n",
       "      <td>0.681529</td>\n",
       "      <td>0.621478</td>\n",
       "      <td>0.503937</td>\n",
       "      <td>0.252033</td>\n",
       "      <td>0.192308</td>\n",
       "    </tr>\n",
       "    <tr>\n",
       "      <th>1368</th>\n",
       "      <td>1.000000</td>\n",
       "      <td>0.099174</td>\n",
       "      <td>0.723684</td>\n",
       "      <td>0.228571</td>\n",
       "      <td>0.109890</td>\n",
       "      <td>0.149254</td>\n",
       "      <td>0.108280</td>\n",
       "      <td>0.546078</td>\n",
       "      <td>0.196850</td>\n",
       "      <td>0.308943</td>\n",
       "      <td>0.250000</td>\n",
       "    </tr>\n",
       "    <tr>\n",
       "      <th>1369</th>\n",
       "      <td>0.224299</td>\n",
       "      <td>0.528926</td>\n",
       "      <td>0.000000</td>\n",
       "      <td>0.128571</td>\n",
       "      <td>0.182418</td>\n",
       "      <td>0.074627</td>\n",
       "      <td>0.070064</td>\n",
       "      <td>0.664890</td>\n",
       "      <td>0.732283</td>\n",
       "      <td>0.170732</td>\n",
       "      <td>0.115385</td>\n",
       "    </tr>\n",
       "    <tr>\n",
       "      <th>1370</th>\n",
       "      <td>0.252336</td>\n",
       "      <td>0.545455</td>\n",
       "      <td>0.342105</td>\n",
       "      <td>0.185714</td>\n",
       "      <td>0.232967</td>\n",
       "      <td>0.238806</td>\n",
       "      <td>0.611465</td>\n",
       "      <td>0.463823</td>\n",
       "      <td>0.440945</td>\n",
       "      <td>0.113821</td>\n",
       "      <td>0.211538</td>\n",
       "    </tr>\n",
       "    <tr>\n",
       "      <th>1371</th>\n",
       "      <td>0.364486</td>\n",
       "      <td>0.545455</td>\n",
       "      <td>0.289474</td>\n",
       "      <td>0.242857</td>\n",
       "      <td>0.160440</td>\n",
       "      <td>0.298507</td>\n",
       "      <td>0.222930</td>\n",
       "      <td>0.596344</td>\n",
       "      <td>0.496063</td>\n",
       "      <td>0.138211</td>\n",
       "      <td>0.269231</td>\n",
       "    </tr>\n",
       "  </tbody>\n",
       "</table>\n",
       "<p>1372 rows × 11 columns</p>\n",
       "</div>"
      ],
      "text/plain": [
       "      fixed acidity  volatile acidity  citric acid  residual sugar  chlorides  \\\n",
       "0          0.214953          0.322314     0.013158        0.100000   0.142857   \n",
       "1          0.214953          0.524793     0.197368        0.100000   0.197802   \n",
       "2          0.327103          0.280992     0.526316        0.100000   0.116484   \n",
       "3          0.289720          0.289256     0.526316        0.071429   0.096703   \n",
       "4          0.149533          0.181818     0.421053        0.114286   0.070330   \n",
       "...             ...               ...          ...             ...        ...   \n",
       "1367       0.364486          0.516529     0.236842        0.200000   0.158242   \n",
       "1368       1.000000          0.099174     0.723684        0.228571   0.109890   \n",
       "1369       0.224299          0.528926     0.000000        0.128571   0.182418   \n",
       "1370       0.252336          0.545455     0.342105        0.185714   0.232967   \n",
       "1371       0.364486          0.545455     0.289474        0.242857   0.160440   \n",
       "\n",
       "      free sulfur dioxide  total sulfur dioxide   density        pH  \\\n",
       "0                0.447761              0.292994  0.564356  0.511811   \n",
       "1                0.194030              0.171975  0.440975  0.464567   \n",
       "2                0.298507              0.267516  0.584158  0.267717   \n",
       "3                0.194030              0.108280  0.360244  0.440945   \n",
       "4                0.104478              0.547771  0.265804  0.385827   \n",
       "...                   ...                   ...       ...       ...   \n",
       "1367             0.597015              0.681529  0.621478  0.503937   \n",
       "1368             0.149254              0.108280  0.546078  0.196850   \n",
       "1369             0.074627              0.070064  0.664890  0.732283   \n",
       "1370             0.238806              0.611465  0.463823  0.440945   \n",
       "1371             0.298507              0.222930  0.596344  0.496063   \n",
       "\n",
       "      sulphates   alcohol  \n",
       "0      0.162602  0.192308  \n",
       "1      0.235772  0.230769  \n",
       "2      0.211382  0.134615  \n",
       "3      0.211382  0.557692  \n",
       "4      0.073171  0.769231  \n",
       "...         ...       ...  \n",
       "1367   0.252033  0.192308  \n",
       "1368   0.308943  0.250000  \n",
       "1369   0.170732  0.115385  \n",
       "1370   0.113821  0.211538  \n",
       "1371   0.138211  0.269231  \n",
       "\n",
       "[1372 rows x 11 columns]"
      ]
     },
     "execution_count": 16,
     "metadata": {},
     "output_type": "execute_result"
    }
   ],
   "source": [
    "test_data[input_cols]"
   ]
  },
  {
   "cell_type": "code",
   "execution_count": 17,
   "id": "f648d7da",
   "metadata": {
    "execution": {
     "iopub.execute_input": "2023-02-09T18:48:41.277446Z",
     "iopub.status.busy": "2023-02-09T18:48:41.277040Z",
     "iopub.status.idle": "2023-02-09T18:48:41.284400Z",
     "shell.execute_reply": "2023-02-09T18:48:41.283212Z"
    },
    "papermill": {
     "duration": 0.018986,
     "end_time": "2023-02-09T18:48:41.286626",
     "exception": false,
     "start_time": "2023-02-09T18:48:41.267640",
     "status": "completed"
    },
    "tags": []
   },
   "outputs": [
    {
     "data": {
      "text/plain": [
       "RandomForestClassifier(max_depth=11, n_estimators=234, random_state=42)"
      ]
     },
     "execution_count": 17,
     "metadata": {},
     "output_type": "execute_result"
    }
   ],
   "source": [
    "model"
   ]
  },
  {
   "cell_type": "code",
   "execution_count": 18,
   "id": "a22d6347",
   "metadata": {
    "execution": {
     "iopub.execute_input": "2023-02-09T18:48:41.304442Z",
     "iopub.status.busy": "2023-02-09T18:48:41.303970Z",
     "iopub.status.idle": "2023-02-09T18:48:41.402967Z",
     "shell.execute_reply": "2023-02-09T18:48:41.401788Z"
    },
    "papermill": {
     "duration": 0.111145,
     "end_time": "2023-02-09T18:48:41.405660",
     "exception": false,
     "start_time": "2023-02-09T18:48:41.294515",
     "status": "completed"
    },
    "tags": []
   },
   "outputs": [],
   "source": [
    "preds = model.predict(test_data[input_cols])\n"
   ]
  },
  {
   "cell_type": "code",
   "execution_count": 19,
   "id": "991f5a99",
   "metadata": {
    "execution": {
     "iopub.execute_input": "2023-02-09T18:48:41.423001Z",
     "iopub.status.busy": "2023-02-09T18:48:41.422531Z",
     "iopub.status.idle": "2023-02-09T18:48:41.429025Z",
     "shell.execute_reply": "2023-02-09T18:48:41.427815Z"
    },
    "papermill": {
     "duration": 0.01806,
     "end_time": "2023-02-09T18:48:41.431557",
     "exception": false,
     "start_time": "2023-02-09T18:48:41.413497",
     "status": "completed"
    },
    "tags": []
   },
   "outputs": [],
   "source": [
    "final_submission_data = pd.DataFrame({\"Id\": test_data['Id'], \"quality\":preds})"
   ]
  },
  {
   "cell_type": "code",
   "execution_count": 20,
   "id": "c6eeea7a",
   "metadata": {
    "execution": {
     "iopub.execute_input": "2023-02-09T18:48:41.449203Z",
     "iopub.status.busy": "2023-02-09T18:48:41.448787Z",
     "iopub.status.idle": "2023-02-09T18:48:41.460897Z",
     "shell.execute_reply": "2023-02-09T18:48:41.459861Z"
    },
    "papermill": {
     "duration": 0.024068,
     "end_time": "2023-02-09T18:48:41.463444",
     "exception": false,
     "start_time": "2023-02-09T18:48:41.439376",
     "status": "completed"
    },
    "tags": []
   },
   "outputs": [
    {
     "data": {
      "text/html": [
       "<div>\n",
       "<style scoped>\n",
       "    .dataframe tbody tr th:only-of-type {\n",
       "        vertical-align: middle;\n",
       "    }\n",
       "\n",
       "    .dataframe tbody tr th {\n",
       "        vertical-align: top;\n",
       "    }\n",
       "\n",
       "    .dataframe thead th {\n",
       "        text-align: right;\n",
       "    }\n",
       "</style>\n",
       "<table border=\"1\" class=\"dataframe\">\n",
       "  <thead>\n",
       "    <tr style=\"text-align: right;\">\n",
       "      <th></th>\n",
       "      <th>Id</th>\n",
       "      <th>quality</th>\n",
       "    </tr>\n",
       "  </thead>\n",
       "  <tbody>\n",
       "    <tr>\n",
       "      <th>0</th>\n",
       "      <td>2056</td>\n",
       "      <td>5</td>\n",
       "    </tr>\n",
       "    <tr>\n",
       "      <th>1</th>\n",
       "      <td>2057</td>\n",
       "      <td>6</td>\n",
       "    </tr>\n",
       "    <tr>\n",
       "      <th>2</th>\n",
       "      <td>2058</td>\n",
       "      <td>5</td>\n",
       "    </tr>\n",
       "    <tr>\n",
       "      <th>3</th>\n",
       "      <td>2059</td>\n",
       "      <td>6</td>\n",
       "    </tr>\n",
       "    <tr>\n",
       "      <th>4</th>\n",
       "      <td>2060</td>\n",
       "      <td>5</td>\n",
       "    </tr>\n",
       "    <tr>\n",
       "      <th>...</th>\n",
       "      <td>...</td>\n",
       "      <td>...</td>\n",
       "    </tr>\n",
       "    <tr>\n",
       "      <th>1367</th>\n",
       "      <td>3423</td>\n",
       "      <td>5</td>\n",
       "    </tr>\n",
       "    <tr>\n",
       "      <th>1368</th>\n",
       "      <td>3424</td>\n",
       "      <td>6</td>\n",
       "    </tr>\n",
       "    <tr>\n",
       "      <th>1369</th>\n",
       "      <td>3425</td>\n",
       "      <td>5</td>\n",
       "    </tr>\n",
       "    <tr>\n",
       "      <th>1370</th>\n",
       "      <td>3426</td>\n",
       "      <td>5</td>\n",
       "    </tr>\n",
       "    <tr>\n",
       "      <th>1371</th>\n",
       "      <td>3427</td>\n",
       "      <td>5</td>\n",
       "    </tr>\n",
       "  </tbody>\n",
       "</table>\n",
       "<p>1372 rows × 2 columns</p>\n",
       "</div>"
      ],
      "text/plain": [
       "        Id  quality\n",
       "0     2056        5\n",
       "1     2057        6\n",
       "2     2058        5\n",
       "3     2059        6\n",
       "4     2060        5\n",
       "...    ...      ...\n",
       "1367  3423        5\n",
       "1368  3424        6\n",
       "1369  3425        5\n",
       "1370  3426        5\n",
       "1371  3427        5\n",
       "\n",
       "[1372 rows x 2 columns]"
      ]
     },
     "execution_count": 20,
     "metadata": {},
     "output_type": "execute_result"
    }
   ],
   "source": [
    "final_submission_data"
   ]
  },
  {
   "cell_type": "code",
   "execution_count": 21,
   "id": "12351e5c",
   "metadata": {
    "execution": {
     "iopub.execute_input": "2023-02-09T18:48:41.481510Z",
     "iopub.status.busy": "2023-02-09T18:48:41.481065Z",
     "iopub.status.idle": "2023-02-09T18:48:41.491666Z",
     "shell.execute_reply": "2023-02-09T18:48:41.490301Z"
    },
    "papermill": {
     "duration": 0.022829,
     "end_time": "2023-02-09T18:48:41.494440",
     "exception": false,
     "start_time": "2023-02-09T18:48:41.471611",
     "status": "completed"
    },
    "tags": []
   },
   "outputs": [],
   "source": [
    "final_submission_data.to_csv('submission2.csv', index=None)"
   ]
  },
  {
   "cell_type": "code",
   "execution_count": null,
   "id": "bf129dc3",
   "metadata": {
    "papermill": {
     "duration": 0.007924,
     "end_time": "2023-02-09T18:48:41.510441",
     "exception": false,
     "start_time": "2023-02-09T18:48:41.502517",
     "status": "completed"
    },
    "tags": []
   },
   "outputs": [],
   "source": []
  }
 ],
 "metadata": {
  "kernelspec": {
   "display_name": "Python 3",
   "language": "python",
   "name": "python3"
  },
  "language_info": {
   "codemirror_mode": {
    "name": "ipython",
    "version": 3
   },
   "file_extension": ".py",
   "mimetype": "text/x-python",
   "name": "python",
   "nbconvert_exporter": "python",
   "pygments_lexer": "ipython3",
   "version": "3.7.12"
  },
  "papermill": {
   "default_parameters": {},
   "duration": 12.882451,
   "end_time": "2023-02-09T18:48:42.342063",
   "environment_variables": {},
   "exception": null,
   "input_path": "__notebook__.ipynb",
   "output_path": "__notebook__.ipynb",
   "parameters": {},
   "start_time": "2023-02-09T18:48:29.459612",
   "version": "2.3.4"
  }
 },
 "nbformat": 4,
 "nbformat_minor": 5
}
